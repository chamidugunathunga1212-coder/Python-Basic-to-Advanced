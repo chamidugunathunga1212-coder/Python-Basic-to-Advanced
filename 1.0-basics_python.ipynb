{
 "cells": [
  {
   "cell_type": "code",
   "execution_count": 1,
   "id": "71117007",
   "metadata": {},
   "outputs": [],
   "source": [
    "# python is case sensitive"
   ]
  },
  {
   "cell_type": "code",
   "execution_count": 2,
   "id": "ef4f809d",
   "metadata": {},
   "outputs": [
    {
     "name": "stdout",
     "output_type": "stream",
     "text": [
      "chamidu\n",
      "gunathunga\n"
     ]
    }
   ],
   "source": [
    "name = 'chamidu'\n",
    "Name = 'gunathunga'\n",
    "\n",
    "print(name)\n",
    "print(Name)"
   ]
  },
  {
   "cell_type": "code",
   "execution_count": 4,
   "id": "9397e5ba",
   "metadata": {},
   "outputs": [
    {
     "name": "stdout",
     "output_type": "stream",
     "text": [
      "you are an adult\n"
     ]
    }
   ],
   "source": [
    "# indentation is important in python\n",
    "\n",
    "age = 20\n",
    "if age > 18:\n",
    "    print('you are an adult')"
   ]
  },
  {
   "cell_type": "code",
   "execution_count": 6,
   "id": "5e3a1549",
   "metadata": {},
   "outputs": [
    {
     "name": "stdout",
     "output_type": "stream",
     "text": [
      "21\n"
     ]
    }
   ],
   "source": [
    "# line continuation using backslash\n",
    "total = 1 + 2 + 3 + \\\n",
    "4 + 5 + 6\n",
    "print(total)"
   ]
  },
  {
   "cell_type": "code",
   "execution_count": 7,
   "id": "f8183787",
   "metadata": {},
   "outputs": [
    {
     "name": "stdout",
     "output_type": "stream",
     "text": [
      "5 10 15\n"
     ]
    }
   ],
   "source": [
    "# multiple statements in a single line using semicolon\n",
    "a = 5; b = 10; c = 15\n",
    "print(a, b, c)"
   ]
  },
  {
   "cell_type": "code",
   "execution_count": 10,
   "id": "62baf5b6",
   "metadata": {},
   "outputs": [
    {
     "name": "stdout",
     "output_type": "stream",
     "text": [
      "15\n",
      "5\n",
      "chamidu\n"
     ]
    }
   ],
   "source": [
    "# understand sementics in python\n",
    "x = 10\n",
    "y = 5\n",
    "name = 'chamidu'   \n",
    "print(x + y)  # addition\n",
    "print(x - y)  # subtraction\n",
    "print(name)\n"
   ]
  },
  {
   "cell_type": "code",
   "execution_count": 12,
   "id": "e02ddf7b",
   "metadata": {},
   "outputs": [
    {
     "data": {
      "text/plain": [
       "str"
      ]
     },
     "execution_count": 12,
     "metadata": {},
     "output_type": "execute_result"
    }
   ],
   "source": [
    "type(x)  # int\n",
    "type(name)  # str"
   ]
  },
  {
   "cell_type": "code",
   "execution_count": 14,
   "id": "adf63687",
   "metadata": {},
   "outputs": [
    {
     "name": "stdout",
     "output_type": "stream",
     "text": [
      "<class 'int'>\n",
      "chamidu\n",
      "<class 'str'>\n"
     ]
    }
   ],
   "source": [
    "# Type Interference\n",
    "x = 10\n",
    "print(type(x))\n",
    "x = 'chamidu'\n",
    "print(x)  # chamidu\n",
    "print(type(x))  # str"
   ]
  },
  {
   "cell_type": "code",
   "execution_count": null,
   "id": "c3701314",
   "metadata": {},
   "outputs": [],
   "source": []
  }
 ],
 "metadata": {
  "kernelspec": {
   "display_name": "Python 3",
   "language": "python",
   "name": "python3"
  },
  "language_info": {
   "codemirror_mode": {
    "name": "ipython",
    "version": 3
   },
   "file_extension": ".py",
   "mimetype": "text/x-python",
   "name": "python",
   "nbconvert_exporter": "python",
   "pygments_lexer": "ipython3",
   "version": "3.12.0"
  }
 },
 "nbformat": 4,
 "nbformat_minor": 5
}
