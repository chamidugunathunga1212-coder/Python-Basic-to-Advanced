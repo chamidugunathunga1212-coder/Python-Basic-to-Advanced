{
 "cells": [
  {
   "cell_type": "code",
   "execution_count": 11,
   "id": "721ebc47",
   "metadata": {},
   "outputs": [],
   "source": [
    "numbers = [1,2,3,4,5,6,7,8,9]"
   ]
  },
  {
   "cell_type": "code",
   "execution_count": 19,
   "id": "2d4a6a96",
   "metadata": {},
   "outputs": [
    {
     "name": "stdout",
     "output_type": "stream",
     "text": [
      "[1, 4, 9, 16, 25, 36, 49, 64, 81]\n"
     ]
    }
   ],
   "source": [
    "def square(x):\n",
    "    num = [x*x for x in numbers]\n",
    "    return num\n",
    "\n",
    "\n",
    "print(square(numbers))    "
   ]
  },
  {
   "cell_type": "code",
   "execution_count": 22,
   "id": "c9794fd7",
   "metadata": {},
   "outputs": [],
   "source": [
    "# functions with map\n",
    "def square1(x):\n",
    "    return x*x"
   ]
  },
  {
   "cell_type": "code",
   "execution_count": 23,
   "id": "9b831017",
   "metadata": {},
   "outputs": [
    {
     "data": {
      "text/plain": [
       "[1, 4, 9, 16, 25, 36]"
      ]
     },
     "execution_count": 23,
     "metadata": {},
     "output_type": "execute_result"
    }
   ],
   "source": [
    "numbers1 = [1,2,3,4,5,6] \n",
    "list(map(square1,numbers1))"
   ]
  },
  {
   "cell_type": "code",
   "execution_count": 25,
   "id": "720df790",
   "metadata": {},
   "outputs": [
    {
     "data": {
      "text/plain": [
       "[1, 4, 9, 16, 25]"
      ]
     },
     "execution_count": 25,
     "metadata": {},
     "output_type": "execute_result"
    }
   ],
   "source": [
    "# lamda functions with map function\n",
    "numbers = [1,2,3,4,5]\n",
    "list(map(lambda x:x*x,numbers))"
   ]
  },
  {
   "cell_type": "code",
   "execution_count": 26,
   "id": "5c16708e",
   "metadata": {},
   "outputs": [
    {
     "name": "stdout",
     "output_type": "stream",
     "text": [
      "[5, 7, 9]\n"
     ]
    }
   ],
   "source": [
    "# map multiple iterables\n",
    "num1 = [1,2,3]\n",
    "num2 = [4,5,6]\n",
    "\n",
    "added_numbers = list(map(lambda x,y: x+y,num1,num2))\n",
    "print(added_numbers)"
   ]
  },
  {
   "cell_type": "code",
   "execution_count": 29,
   "id": "c9137346",
   "metadata": {},
   "outputs": [
    {
     "name": "stdout",
     "output_type": "stream",
     "text": [
      "[1, 2, 3, 4]\n"
     ]
    }
   ],
   "source": [
    "# map to convert a list of string to integers\n",
    "str_numbers = ['1','2','3','4']\n",
    "int_numbers = list(map(int,str_numbers))\n",
    "print(int_numbers)"
   ]
  },
  {
   "cell_type": "code",
   "execution_count": 31,
   "id": "7e86cce5",
   "metadata": {},
   "outputs": [
    {
     "name": "stdout",
     "output_type": "stream",
     "text": [
      "['APPLE', 'BANANA', 'GRAPES']\n"
     ]
    }
   ],
   "source": [
    "# how to apply inbuild functions using map functions\n",
    "words = ['apple','banana','grapes']\n",
    "upper_words = list(map(str.upper,words))\n",
    "print(upper_words)"
   ]
  },
  {
   "cell_type": "code",
   "execution_count": 35,
   "id": "b920ae23",
   "metadata": {},
   "outputs": [
    {
     "data": {
      "text/plain": [
       "['chamidu', 'dewmi']"
      ]
     },
     "execution_count": 35,
     "metadata": {},
     "output_type": "execute_result"
    }
   ],
   "source": [
    "def get_name(person):\n",
    "    return person['name']\n",
    "\n",
    "\n",
    "persons = [\n",
    "    {'name':'chamidu','age':23},\n",
    "    {'name':'dewmi','age':22}\n",
    "]\n",
    "\n",
    "list(map(get_name,persons))\n",
    "\n",
    "\n"
   ]
  },
  {
   "cell_type": "markdown",
   "id": "ede2e645",
   "metadata": {},
   "source": [
    "### ✅ Conclusion about `map()` Function in Python\n",
    "\n",
    "The `map()` function is a powerful built-in function in Python that allows you to apply a function to each element of one or more iterables (like lists or tuples) without writing an explicit loop.\n",
    "\n",
    "#### ✅ Key Points:\n",
    "- Applies a function to every item in an iterable.\n",
    "- Returns a **map object (iterator)** — often converted to a `list()` or `tuple()`.\n",
    "- Can work with **multiple iterables** if the function accepts multiple parameters.\n",
    "- More **concise and efficient** than traditional `for` loops.\n",
    "- Commonly used with **lambda functions** or **built-in functions**.\n",
    "\n",
    "#### ✅ Example:\n",
    "```python\n",
    "numbers = [1, 2, 3, 4]\n",
    "result = map(lambda x: x * 2, numbers)\n",
    "print(list(result))   # Output: [2, 4, 6, 8]\n"
   ]
  }
 ],
 "metadata": {
  "kernelspec": {
   "display_name": "Python 3",
   "language": "python",
   "name": "python3"
  },
  "language_info": {
   "codemirror_mode": {
    "name": "ipython",
    "version": 3
   },
   "file_extension": ".py",
   "mimetype": "text/x-python",
   "name": "python",
   "nbconvert_exporter": "python",
   "pygments_lexer": "ipython3",
   "version": "3.12.0"
  }
 },
 "nbformat": 4,
 "nbformat_minor": 5
}
