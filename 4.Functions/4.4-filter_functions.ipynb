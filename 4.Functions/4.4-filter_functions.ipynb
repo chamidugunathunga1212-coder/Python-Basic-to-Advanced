{
 "cells": [
  {
   "cell_type": "code",
   "execution_count": null,
   "id": "c5938dcc",
   "metadata": {},
   "outputs": [
    {
     "data": {
      "text/plain": [
       "True"
      ]
     },
     "execution_count": 5,
     "metadata": {},
     "output_type": "execute_result"
    }
   ],
   "source": [
    "def even(num):\n",
    "    \"\"\"This function check if the num is even then gives true otherwise gives false\"\"\"\n",
    "\n",
    "    if num%2 == 0:\n",
    "        return True\n",
    "\n",
    "even(24)\n",
    "    "
   ]
  },
  {
   "cell_type": "code",
   "execution_count": 7,
   "id": "9a499c32",
   "metadata": {},
   "outputs": [
    {
     "data": {
      "text/plain": [
       "[2, 4, 6, 8, 10]"
      ]
     },
     "execution_count": 7,
     "metadata": {},
     "output_type": "execute_result"
    }
   ],
   "source": [
    "lsit1 = [1,2,3,4,5,6,7,8,9,10]\n",
    "list(filter(even,lsit1))"
   ]
  },
  {
   "cell_type": "code",
   "execution_count": 14,
   "id": "222bcff4",
   "metadata": {},
   "outputs": [
    {
     "name": "stdout",
     "output_type": "stream",
     "text": [
      "[7, 9, 12, 16, 18, 21]\n"
     ]
    }
   ],
   "source": [
    "# filter with lamda function\n",
    "\n",
    "numbers = [1,7,3,2,9,12,16,18,21,2,1]\n",
    "\n",
    "greater_than_five = list(filter(lambda x:x>5,numbers))\n",
    "print(greater_than_five)"
   ]
  },
  {
   "cell_type": "code",
   "execution_count": 16,
   "id": "29c045ff",
   "metadata": {},
   "outputs": [
    {
     "name": "stdout",
     "output_type": "stream",
     "text": [
      "[6, 8]\n"
     ]
    }
   ],
   "source": [
    "# filter operation with lambda function and multiple condition\n",
    "\n",
    "numbers = [1,2,3,4,5,6,7,8,9]\n",
    "even_greater_than_five = list(filter(lambda x: x>5 and x%2 == 0,numbers))\n",
    "print(even_greater_than_five)\n"
   ]
  },
  {
   "cell_type": "code",
   "execution_count": 21,
   "id": "c985a60b",
   "metadata": {},
   "outputs": [
    {
     "data": {
      "text/plain": [
       "[{'name': 'binol', 'age': 24}, {'name': 'nirmal', 'age': 24}]"
      ]
     },
     "execution_count": 21,
     "metadata": {},
     "output_type": "execute_result"
    }
   ],
   "source": [
    "# apply filter function to check is the age is greater than 25 in dictionarires\n",
    "\n",
    "persons = [\n",
    "    {'name':'chamidu','age':23},\n",
    "    {'name':'dewmi','age':22},\n",
    "    {'name':'binol','age':24},\n",
    "    {'name':'nirmal','age':24}\n",
    "]\n",
    "\n",
    "def check_age_greater_than_23(person):\n",
    "    return person['age'] > 23\n",
    "\n",
    "list(filter(check_age_greater_than_23,persons))    \n"
   ]
  },
  {
   "cell_type": "markdown",
   "id": "ea2ca22b",
   "metadata": {},
   "source": [
    "### ✅ Conclusion about `filter()` Function in Python\n",
    "\n",
    "The `filter()` function is used to select only the elements from an iterable (like a list or tuple) that meet a specific condition. It applies a function that returns **True or False** and keeps only the items where the function returns **True**.\n",
    "\n",
    "It helps write clean, readable, and efficient code when filtering data without using manual loops.\n"
   ]
  }
 ],
 "metadata": {
  "kernelspec": {
   "display_name": "Python 3",
   "language": "python",
   "name": "python3"
  },
  "language_info": {
   "codemirror_mode": {
    "name": "ipython",
    "version": 3
   },
   "file_extension": ".py",
   "mimetype": "text/x-python",
   "name": "python",
   "nbconvert_exporter": "python",
   "pygments_lexer": "ipython3",
   "version": "3.12.0"
  }
 },
 "nbformat": 4,
 "nbformat_minor": 5
}
