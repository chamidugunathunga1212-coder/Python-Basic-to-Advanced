{
 "cells": [
  {
   "cell_type": "code",
   "execution_count": 4,
   "id": "a4735d39",
   "metadata": {},
   "outputs": [
    {
     "name": "stdout",
     "output_type": "stream",
     "text": [
      "This 5 is an odd number\n",
      "This 2 is an even number\n"
     ]
    }
   ],
   "source": [
    "# Functions are block of codes performs a specific task\n",
    "\n",
    "\n",
    "# Function with single parameter\n",
    "def even_or_odd(num):\n",
    "    \"\"\"This Function help to find even or odd numbers\"\"\"\n",
    "\n",
    "    if num%2 == 0:\n",
    "        print(f\"This {num} is an even number\")\n",
    "    else:\n",
    "        print(f\"This {num} is an odd number\")    \n",
    "\n",
    "\n",
    "even_or_odd(5)\n",
    "even_or_odd(2)"
   ]
  },
  {
   "cell_type": "code",
   "execution_count": 6,
   "id": "6c8e9df6",
   "metadata": {},
   "outputs": [
    {
     "name": "stdout",
     "output_type": "stream",
     "text": [
      "11\n",
      "97\n"
     ]
    }
   ],
   "source": [
    "# Function with multiple parameters\n",
    "\n",
    "def add(a,b):\n",
    "    \"\"\"This Function can add two numbers\"\"\"\n",
    "    return a+b\n",
    "\n",
    "summation1 = add(5,6)\n",
    "print(summation1)\n",
    "\n",
    "summation2 = add(7,90)\n",
    "print(summation2)"
   ]
  },
  {
   "cell_type": "code",
   "execution_count": 8,
   "id": "6c81d9e6",
   "metadata": {},
   "outputs": [
    {
     "name": "stdout",
     "output_type": "stream",
     "text": [
      "Hello Chamidu How are You...\n"
     ]
    }
   ],
   "source": [
    "def greet(name):\n",
    "    \"\"\"Print the message\"\"\"\n",
    "    print(f\"Hello {name} How are You...\")\n",
    "\n",
    "greet(\"Chamidu\")    "
   ]
  },
  {
   "cell_type": "code",
   "execution_count": 12,
   "id": "bd75afd5",
   "metadata": {},
   "outputs": [
    {
     "name": "stdout",
     "output_type": "stream",
     "text": [
      "Hello Dewmi How are You...\n",
      "Hello Dewmi How are You...\n",
      "Hello Dewmi How are You...\n",
      "Hello Chamidu How are You...\n"
     ]
    }
   ],
   "source": [
    "# default parameters\n",
    "\n",
    "def greet(name=\"Dewmi\"):\n",
    "    \"\"\"Print the message\"\"\"\n",
    "    print(f\"Hello {name} How are You...\")\n",
    "\n",
    "greet()\n",
    "greet()\n",
    "greet()\n",
    "greet(\"Chamidu\")    "
   ]
  },
  {
   "cell_type": "code",
   "execution_count": 15,
   "id": "7bb26d1d",
   "metadata": {},
   "outputs": [
    {
     "name": "stdout",
     "output_type": "stream",
     "text": [
      "1\n",
      "2\n",
      "3\n",
      "4\n",
      "5\n",
      "chamidu\n",
      "4.5\n"
     ]
    }
   ],
   "source": [
    "# variable length arguments\n",
    "\n",
    "# positional and keywords arguments\n",
    "def print_anything(*args):\n",
    "    for item in args:\n",
    "        print(item) \n",
    "\n",
    "\n",
    "print_anything(1,2,3,4,5,\"chamidu\",4.5)        "
   ]
  },
  {
   "cell_type": "code",
   "execution_count": 18,
   "id": "7ee6aba2",
   "metadata": {},
   "outputs": [
    {
     "name": "stdout",
     "output_type": "stream",
     "text": [
      "name: Chamidu\n",
      "age: 22\n",
      "country: Sri Lanka\n"
     ]
    }
   ],
   "source": [
    "# keyword Arguments\n",
    "def print_key_values(**kwargs):\n",
    "    for key,item in kwargs.items():\n",
    "        print(f\"{key}: {item}\")\n",
    "\n",
    "print_key_values(name=\"Chamidu\",age=22,country=\"Sri Lanka\")        "
   ]
  },
  {
   "cell_type": "code",
   "execution_count": 21,
   "id": "8daeb525",
   "metadata": {},
   "outputs": [
    {
     "name": "stdout",
     "output_type": "stream",
     "text": [
      "1\n",
      "2\n",
      "3\n",
      "4\n",
      "5\n",
      "chamidu\n",
      "4.5\n",
      "name: Chamidu\n",
      "age: 22\n",
      "country: Sri Lanka\n",
      "1\n",
      "2\n",
      "3\n",
      "4\n",
      "5\n",
      "chamidu\n",
      "4.5\n",
      "name: Chamidu\n",
      "age: 22\n",
      "country: Sri Lanka\n"
     ]
    }
   ],
   "source": [
    "def print_key_values(*args,**kwargs):\n",
    "\n",
    "    for item in args:\n",
    "        print(item) \n",
    "\n",
    "\n",
    "    for key,item in kwargs.items():\n",
    "        print(f\"{key}: {item}\")\n",
    "\n",
    "\n",
    "print_key_values(1,2,3,4,5,\"chamidu\",4.5)     \n",
    "print_key_values(name=\"Chamidu\",age=22,country=\"Sri Lanka\")       \n",
    "print_key_values(1,2,3,4,5,\"chamidu\",4.5,name=\"Chamidu\",age=22,country=\"Sri Lanka\")   "
   ]
  }
 ],
 "metadata": {
  "kernelspec": {
   "display_name": "Python 3",
   "language": "python",
   "name": "python3"
  },
  "language_info": {
   "codemirror_mode": {
    "name": "ipython",
    "version": 3
   },
   "file_extension": ".py",
   "mimetype": "text/x-python",
   "name": "python",
   "nbconvert_exporter": "python",
   "pygments_lexer": "ipython3",
   "version": "3.12.0"
  }
 },
 "nbformat": 4,
 "nbformat_minor": 5
}
