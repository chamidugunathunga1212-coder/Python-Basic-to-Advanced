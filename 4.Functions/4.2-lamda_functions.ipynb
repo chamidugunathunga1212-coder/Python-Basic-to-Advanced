{
 "cells": [
  {
   "cell_type": "code",
   "execution_count": 3,
   "id": "e7799317",
   "metadata": {},
   "outputs": [
    {
     "name": "stdout",
     "output_type": "stream",
     "text": [
      "<class 'function'>\n",
      "11\n",
      "9\n"
     ]
    }
   ],
   "source": [
    "addition = lambda a,b: a+b\n",
    "print(type(addition))\n",
    "print(addition(5,6))\n",
    "print(addition(7,2))"
   ]
  },
  {
   "cell_type": "code",
   "execution_count": 6,
   "id": "ebe7a718",
   "metadata": {},
   "outputs": [
    {
     "name": "stdout",
     "output_type": "stream",
     "text": [
      "<class 'function'>\n",
      "True\n"
     ]
    }
   ],
   "source": [
    "even = lambda num: num%2==0\n",
    "print(type(even))\n",
    "print(even(24))"
   ]
  },
  {
   "cell_type": "code",
   "execution_count": 13,
   "id": "fbe839f6",
   "metadata": {},
   "outputs": [
    {
     "name": "stdout",
     "output_type": "stream",
     "text": [
      "[1, 4, 9, 16, 25, 36, 49, 64, 81]\n"
     ]
    }
   ],
   "source": [
    "numbers = [1,2,3,4,5,6,7,8,9]\n",
    "\n",
    "def square(numbers):\n",
    "\n",
    "    num = [x**2 for x in numbers]\n",
    "    return num\n",
    "\n",
    "squared_answer = square(numbers)\n",
    "print(squared_answer)\n"
   ]
  },
  {
   "cell_type": "code",
   "execution_count": 14,
   "id": "fbbe6d55",
   "metadata": {},
   "outputs": [
    {
     "data": {
      "text/plain": [
       "[1, 4, 9, 16, 25, 36, 49, 64, 81]"
      ]
     },
     "execution_count": 14,
     "metadata": {},
     "output_type": "execute_result"
    }
   ],
   "source": [
    "# map() -> applies a function to all items in a list\n",
    "list(map(lambda x:x**2,numbers))"
   ]
  }
 ],
 "metadata": {
  "kernelspec": {
   "display_name": "Python 3",
   "language": "python",
   "name": "python3"
  },
  "language_info": {
   "codemirror_mode": {
    "name": "ipython",
    "version": 3
   },
   "file_extension": ".py",
   "mimetype": "text/x-python",
   "name": "python",
   "nbconvert_exporter": "python",
   "pygments_lexer": "ipython3",
   "version": "3.12.0"
  }
 },
 "nbformat": 4,
 "nbformat_minor": 5
}
