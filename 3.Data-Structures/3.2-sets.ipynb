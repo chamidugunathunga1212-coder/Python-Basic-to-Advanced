{
 "cells": [
  {
   "cell_type": "code",
   "execution_count": 3,
   "id": "6d3f7411",
   "metadata": {},
   "outputs": [],
   "source": [
    "# no duplicate elements allowed\n",
    "# unordered collection\n",
    "# elements inside a set are immutable\n",
    "# but we can add or remove elements from a set"
   ]
  },
  {
   "cell_type": "code",
   "execution_count": 4,
   "id": "a79ee6ef",
   "metadata": {},
   "outputs": [
    {
     "name": "stdout",
     "output_type": "stream",
     "text": [
      "{1, 2, 3, 4, 5}\n",
      "<class 'set'>\n"
     ]
    }
   ],
   "source": [
    "# create a set\n",
    "\n",
    "my_set = {1, 2, 3, 4, 5}\n",
    "print(my_set)\n",
    "print(type(my_set))"
   ]
  },
  {
   "cell_type": "code",
   "execution_count": 5,
   "id": "737afbbd",
   "metadata": {},
   "outputs": [
    {
     "name": "stdout",
     "output_type": "stream",
     "text": [
      "{1, 2, 3, 4, 5}\n"
     ]
    }
   ],
   "source": [
    "my_set_2 = set([1, 2, 3, 4, 5])\n",
    "print(my_set_2)"
   ]
  },
  {
   "cell_type": "code",
   "execution_count": 6,
   "id": "6de150a6",
   "metadata": {},
   "outputs": [
    {
     "name": "stdout",
     "output_type": "stream",
     "text": [
      "{1, 2, 3, 4, 5}\n",
      "[1, 2, 3, 4, 5]\n",
      "<class 'list'>\n"
     ]
    }
   ],
   "source": [
    "# remove duplicates from a list\n",
    "my_list = [1, 2, 2, 3, 4, 4, 5]\n",
    "my_set_3 = set(my_list)\n",
    "print(my_set_3)\n",
    "my_list_2 = list(my_set_3)\n",
    "print(my_list_2)\n",
    "print(type(my_list_2))\n"
   ]
  },
  {
   "cell_type": "code",
   "execution_count": 13,
   "id": "1baf4785",
   "metadata": {},
   "outputs": [
    {
     "name": "stdout",
     "output_type": "stream",
     "text": [
      "{1, 2, 3, 4, 5}\n",
      "{1, 2, 3, 4, 5}\n"
     ]
    }
   ],
   "source": [
    "# Basic set operations\n",
    "\n",
    "# union\n",
    "A = {1, 2, 3}\n",
    "B = {3, 4, 5}\n",
    "print(A | B)\n",
    "print(A.union(B))  "
   ]
  },
  {
   "cell_type": "code",
   "execution_count": 14,
   "id": "8ca7beb8",
   "metadata": {},
   "outputs": [
    {
     "name": "stdout",
     "output_type": "stream",
     "text": [
      "{1, 2, 3, 6}\n",
      "{1, 2, 3}\n",
      "{1, 2, 3}\n"
     ]
    }
   ],
   "source": [
    "# Add elements\n",
    "A.add(6)\n",
    "print(A)\n",
    "\n",
    "# remove elements\n",
    "A.remove(6)  # raises an error if the element is not found\n",
    "print(A)\n",
    "\n",
    "# discard does not raise an error if the element is not found\n",
    "A.discard(16)\n",
    "print(A)"
   ]
  },
  {
   "cell_type": "code",
   "execution_count": 15,
   "id": "ecf8459b",
   "metadata": {},
   "outputs": [
    {
     "name": "stdout",
     "output_type": "stream",
     "text": [
      "1\n"
     ]
    }
   ],
   "source": [
    "# pop removes and returns an arbitrary element from the set\n",
    "popped_element = A.pop() \n",
    "print(popped_element)"
   ]
  },
  {
   "cell_type": "code",
   "execution_count": 16,
   "id": "f5994448",
   "metadata": {},
   "outputs": [
    {
     "name": "stdout",
     "output_type": "stream",
     "text": [
      "set()\n"
     ]
    }
   ],
   "source": [
    "# clear removes all elements from the set\n",
    "A.clear()\n",
    "print(A)"
   ]
  },
  {
   "cell_type": "code",
   "execution_count": 17,
   "id": "3e80f952",
   "metadata": {},
   "outputs": [
    {
     "name": "stdout",
     "output_type": "stream",
     "text": [
      "True\n",
      "False\n"
     ]
    }
   ],
   "source": [
    "# set membership test\n",
    "\n",
    "my_set = {1, 2, 3, 4, 5}\n",
    "print(3 in my_set)  # True\n",
    "print(6 in my_set)  # False"
   ]
  },
  {
   "cell_type": "code",
   "execution_count": 20,
   "id": "c9581e8c",
   "metadata": {},
   "outputs": [
    {
     "name": "stdout",
     "output_type": "stream",
     "text": [
      "{3}\n",
      "{3}\n",
      "{1, 2, 3, 4, 5}\n",
      "{1, 2, 3, 4, 5}\n"
     ]
    }
   ],
   "source": [
    "# Mathematical set operations like intersection, difference, symmetric difference, subset, superset, etc. are also supported.\n",
    "\n",
    "# intersection\n",
    "A = {1, 2, 3}\n",
    "B = {3, 4, 5}\n",
    "print(A & B)\n",
    "print(A.intersection(B))\n",
    "\n",
    "# Union\n",
    "print(A | B)\n",
    "print(A.union(B))"
   ]
  },
  {
   "cell_type": "code",
   "execution_count": null,
   "id": "1ab362f0",
   "metadata": {},
   "outputs": [
    {
     "name": "stdout",
     "output_type": "stream",
     "text": [
      "{1, 2}\n",
      "{1, 2}\n"
     ]
    }
   ],
   "source": [
    "# difference\n",
    "print(A - B)\n",
    "print(A.difference(B))"
   ]
  },
  {
   "cell_type": "code",
   "execution_count": 21,
   "id": "418c642c",
   "metadata": {},
   "outputs": [
    {
     "name": "stdout",
     "output_type": "stream",
     "text": [
      "{3}\n"
     ]
    }
   ],
   "source": [
    "# Intersection update (keeps only elements found in both sets)\n",
    "A.intersection_update(B)\n",
    "print(A)"
   ]
  },
  {
   "cell_type": "code",
   "execution_count": 22,
   "id": "067a013a",
   "metadata": {},
   "outputs": [
    {
     "name": "stdout",
     "output_type": "stream",
     "text": [
      "{1, 2, 3}\n"
     ]
    }
   ],
   "source": [
    "set1 = {1, 2, 3, 4, 5}\n",
    "set2 = {4, 5, 6, 7, 8}\n",
    "\n",
    "# difference_update removes elements found in another set\n",
    "set1.difference_update(set2)\n",
    "print(set1)  # Output: {1, 2, 3}"
   ]
  },
  {
   "cell_type": "code",
   "execution_count": 24,
   "id": "d92826d2",
   "metadata": {},
   "outputs": [
    {
     "name": "stdout",
     "output_type": "stream",
     "text": [
      "{1, 2, 4, 5}\n",
      "{1, 2, 4, 5}\n"
     ]
    }
   ],
   "source": [
    "# symmetric_difference (keeps elements in either set, but not in both only take unique elements)\n",
    "set3 = {1, 2, 3}\n",
    "set4 = {3, 4, 5}\n",
    "print(set3 ^ set4)  # Output: {1, 2, 4, 5}\n",
    "print(set3.symmetric_difference(set4))  # Output: {1, 2, 4, 5}"
   ]
  },
  {
   "cell_type": "code",
   "execution_count": 25,
   "id": "d0af7deb",
   "metadata": {},
   "outputs": [
    {
     "name": "stdout",
     "output_type": "stream",
     "text": [
      "False\n",
      "True\n"
     ]
    }
   ],
   "source": [
    "# set methods\n",
    "\n",
    "setA = {1, 2, 3}\n",
    "setB = {3, 4, 5}\n",
    "\n",
    "# is subset\n",
    "print(setA.issubset(setB))  # False\n",
    "print({3}.issubset(setB))    # True"
   ]
  },
  {
   "cell_type": "code",
   "execution_count": 26,
   "id": "08e00d6e",
   "metadata": {},
   "outputs": [
    {
     "name": "stdout",
     "output_type": "stream",
     "text": [
      "False\n",
      "True\n"
     ]
    }
   ],
   "source": [
    "# is superset\n",
    "print(setB.issuperset(setA))  # False\n",
    "print(setB.issuperset({3}))    # True"
   ]
  },
  {
   "cell_type": "code",
   "execution_count": 27,
   "id": "1cf56b09",
   "metadata": {},
   "outputs": [
    {
     "name": "stdout",
     "output_type": "stream",
     "text": [
      "{1, 2, 3, 4, 5}\n"
     ]
    }
   ],
   "source": [
    "# Example usage\n",
    "\n",
    "list1 = [1, 2, 2, 3, 4, 4, 5]\n",
    "\n",
    "set1 = set(list1)\n",
    "print(set1)  # Output: {1, 2, 3, 4, 5}  "
   ]
  },
  {
   "cell_type": "code",
   "execution_count": 28,
   "id": "e37a03e2",
   "metadata": {},
   "outputs": [
    {
     "name": "stdout",
     "output_type": "stream",
     "text": [
      "{'counting', 'sample', 'several', 'is', 'This', 'for', 'a', 'words.', 'text', 'unique', 'with'}\n",
      "Number of unique words: 11\n"
     ]
    }
   ],
   "source": [
    "# Counting unique words in a text\n",
    "\n",
    "text = \"This is a sample text with several words. This text is for counting unique words.\"\n",
    "words = text.split()\n",
    "unique_words = set(words)\n",
    "print(unique_words)\n",
    "print(f\"Number of unique words: {len(unique_words)}\")\n"
   ]
  }
 ],
 "metadata": {
  "kernelspec": {
   "display_name": "Python 3",
   "language": "python",
   "name": "python3"
  },
  "language_info": {
   "codemirror_mode": {
    "name": "ipython",
    "version": 3
   },
   "file_extension": ".py",
   "mimetype": "text/x-python",
   "name": "python",
   "nbconvert_exporter": "python",
   "pygments_lexer": "ipython3",
   "version": "3.12.0"
  }
 },
 "nbformat": 4,
 "nbformat_minor": 5
}
