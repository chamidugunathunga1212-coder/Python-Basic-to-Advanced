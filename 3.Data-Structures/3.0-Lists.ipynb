{
 "cells": [
  {
   "cell_type": "code",
   "execution_count": 1,
   "id": "f9bad1cc",
   "metadata": {},
   "outputs": [
    {
     "name": "stdout",
     "output_type": "stream",
     "text": [
      "<class 'list'>\n"
     ]
    }
   ],
   "source": [
    "list1 = []\n",
    "print(type(list1))"
   ]
  },
  {
   "cell_type": "code",
   "execution_count": 2,
   "id": "8384b2b4",
   "metadata": {},
   "outputs": [
    {
     "name": "stdout",
     "output_type": "stream",
     "text": [
      "['chamidu', 'dewmi', 1, 1.2, True]\n"
     ]
    }
   ],
   "source": [
    "list1 = [\"chamidu\",\"dewmi\",1,1.2,True]\n",
    "print(list1)"
   ]
  },
  {
   "cell_type": "code",
   "execution_count": 9,
   "id": "a9158d64",
   "metadata": {},
   "outputs": [
    {
     "name": "stdout",
     "output_type": "stream",
     "text": [
      "chamidu\n",
      "True\n",
      "['dewmi', 1, 1.2]\n",
      "['dewmi', 1, 1.2, True]\n"
     ]
    }
   ],
   "source": [
    "# Acessing list elements\n",
    "print(list1[0])  # First element\n",
    "print(list1[-1]) # Last element\n",
    "print(list1[1:4]) # Slicing\n",
    "print(list1[1:]) # From index 1 to end"
   ]
  },
  {
   "cell_type": "code",
   "execution_count": 10,
   "id": "0f23b7b7",
   "metadata": {},
   "outputs": [
    {
     "name": "stdout",
     "output_type": "stream",
     "text": [
      "['chamidu', 'dewmi', 100, 1.2, True]\n"
     ]
    }
   ],
   "source": [
    "# Modifying list elements\n",
    "list1[2] = 100\n",
    "print(list1)"
   ]
  },
  {
   "cell_type": "code",
   "execution_count": 22,
   "id": "5269fba4",
   "metadata": {},
   "outputs": [
    {
     "name": "stdout",
     "output_type": "stream",
     "text": [
      "['chamidu', 'tinkiri', 'dewmi', 100, True, 'new item']\n"
     ]
    }
   ],
   "source": [
    "# List methods\n",
    "# 1. Append\n",
    "list1.append(\"new item\") # Add item to the end\n",
    "print(list1)"
   ]
  },
  {
   "cell_type": "code",
   "execution_count": 23,
   "id": "c34b0d1b",
   "metadata": {},
   "outputs": [
    {
     "name": "stdout",
     "output_type": "stream",
     "text": [
      "['chamidu', 'tinkiri', 'tinkiri', 'dewmi', 100, True, 'new item']\n"
     ]
    }
   ],
   "source": [
    "# 2. Insert\n",
    "list1.insert(1, \"tinkiri\") # Insert at index 1\n",
    "print(list1)"
   ]
  },
  {
   "cell_type": "code",
   "execution_count": 24,
   "id": "de0308a3",
   "metadata": {},
   "outputs": [
    {
     "data": {
      "text/plain": [
       "['chamidu', 'tinkiri', 'tinkiri', 'dewmi', 100, True, 'new item']"
      ]
     },
     "execution_count": 24,
     "metadata": {},
     "output_type": "execute_result"
    }
   ],
   "source": [
    "list1"
   ]
  },
  {
   "cell_type": "code",
   "execution_count": 25,
   "id": "bfc81e3b",
   "metadata": {},
   "outputs": [
    {
     "name": "stdout",
     "output_type": "stream",
     "text": [
      "['chamidu', 'tinkiri', 'dewmi', 100, True, 'new item']\n"
     ]
    }
   ],
   "source": [
    "# Remove elements\n",
    "list1.remove(\"tinkiri\") # Remove by value\n",
    "print(list1)"
   ]
  },
  {
   "cell_type": "code",
   "execution_count": 27,
   "id": "d6ec24f1",
   "metadata": {},
   "outputs": [
    {
     "name": "stdout",
     "output_type": "stream",
     "text": [
      "Popped item: new item\n"
     ]
    }
   ],
   "source": [
    "# Remove and return the last item\n",
    "last_item = list1.pop()\n",
    "print(\"Popped item:\", last_item)"
   ]
  },
  {
   "cell_type": "code",
   "execution_count": 28,
   "id": "9f90fbe5",
   "metadata": {},
   "outputs": [
    {
     "name": "stdout",
     "output_type": "stream",
     "text": [
      "Index of 'dewmi': 2\n"
     ]
    }
   ],
   "source": [
    "# get the index of an item\n",
    "index_of_dewmi = list1.index(\"dewmi\")\n",
    "print(\"Index of 'dewmi':\", index_of_dewmi)"
   ]
  },
  {
   "cell_type": "code",
   "execution_count": 29,
   "id": "91dec7a5",
   "metadata": {},
   "outputs": [
    {
     "name": "stdout",
     "output_type": "stream",
     "text": [
      "Count of 'chamidu': 1\n"
     ]
    }
   ],
   "source": [
    "# count occurrences of an item\n",
    "count_of_chamidu = list1.count(\"chamidu\")\n",
    "print(\"Count of 'chamidu':\", count_of_chamidu)"
   ]
  },
  {
   "cell_type": "code",
   "execution_count": 34,
   "id": "cdb3f8cb",
   "metadata": {},
   "outputs": [
    {
     "name": "stdout",
     "output_type": "stream",
     "text": [
      "['chamidu', 'dewmi', 'tinkiri', 100, True]\n"
     ]
    }
   ],
   "source": [
    "# reverse the list\n",
    "list1.reverse() # Reverse the list\n",
    "print(list1)"
   ]
  },
  {
   "cell_type": "code",
   "execution_count": 37,
   "id": "191631d4",
   "metadata": {},
   "outputs": [
    {
     "name": "stdout",
     "output_type": "stream",
     "text": [
      "[]\n"
     ]
    }
   ],
   "source": [
    "# clear the list\n",
    "list1.clear() # Clear all items\n",
    "print(list1)"
   ]
  },
  {
   "cell_type": "code",
   "execution_count": 45,
   "id": "959a78bc",
   "metadata": {},
   "outputs": [
    {
     "name": "stdout",
     "output_type": "stream",
     "text": [
      "[3, 4, 5]\n",
      "[1, 2, 3, 4]\n",
      "[6, 7, 8, 9, 10]\n",
      "[1, 3, 5, 7, 9]\n",
      "[10, 9, 8, 7, 6, 5, 4, 3, 2, 1]\n",
      "[2, 5, 8]\n",
      "[10, 8, 6, 4, 2]\n"
     ]
    }
   ],
   "source": [
    "# slice the list\n",
    "numbers = [1, 2, 3, 4, 5, 6, 7, 8, 9, 10]\n",
    "print(numbers[2:5])  # Output: [3, 4, 5]\n",
    "print(numbers[:4])   # Output: [1, 2, 3, 4]\n",
    "print(numbers[5:])   # Output: [6, 7, 8, 9, 10]\n",
    "print(numbers[::2])  # Output: [1, 3, 5, 7, 9]\n",
    "print(numbers[::-1]) # Output: [10, 9, 8, 7, 6, 5, 4, 3, 2, 1]\n",
    "print(numbers[1:8:3]) # Output: [2, 5, 8]\n",
    "print(numbers[::-2]) # Output: [10, 8, 6, 4, 2]"
   ]
  },
  {
   "cell_type": "code",
   "execution_count": 46,
   "id": "ace43d29",
   "metadata": {},
   "outputs": [
    {
     "name": "stdout",
     "output_type": "stream",
     "text": [
      "1\n",
      "2\n",
      "3\n",
      "4\n",
      "5\n",
      "6\n",
      "7\n",
      "8\n",
      "9\n",
      "10\n"
     ]
    }
   ],
   "source": [
    "# Iterate through a list\n",
    "for item in numbers:\n",
    "    print(item)"
   ]
  },
  {
   "cell_type": "code",
   "execution_count": 47,
   "id": "7c45cef8",
   "metadata": {},
   "outputs": [
    {
     "name": "stdout",
     "output_type": "stream",
     "text": [
      "Index: 0, Value: 1\n",
      "Index: 1, Value: 2\n",
      "Index: 2, Value: 3\n",
      "Index: 3, Value: 4\n",
      "Index: 4, Value: 5\n",
      "Index: 5, Value: 6\n",
      "Index: 6, Value: 7\n",
      "Index: 7, Value: 8\n",
      "Index: 8, Value: 9\n",
      "Index: 9, Value: 10\n"
     ]
    }
   ],
   "source": [
    "# Iterate with index\n",
    "for index, value in enumerate(numbers):\n",
    "    print(f\"Index: {index}, Value: {value}\")"
   ]
  },
  {
   "cell_type": "code",
   "execution_count": 52,
   "id": "5d8cb346",
   "metadata": {},
   "outputs": [
    {
     "name": "stdout",
     "output_type": "stream",
     "text": [
      "[1, 4, 9, 16, 25, 36, 49, 64, 81, 100]\n"
     ]
    }
   ],
   "source": [
    "squared1=[]\n",
    "\n",
    "for i in numbers:\n",
    "    squared1.append(i**2)\n",
    "print(squared1)    "
   ]
  },
  {
   "cell_type": "code",
   "execution_count": 53,
   "id": "7eefb87f",
   "metadata": {},
   "outputs": [
    {
     "name": "stdout",
     "output_type": "stream",
     "text": [
      "[1, 4, 9, 16, 25, 36, 49, 64, 81, 100]\n"
     ]
    }
   ],
   "source": [
    "# List comprehensions\n",
    "squared = [x**2 for x in numbers]\n",
    "print(squared)"
   ]
  },
  {
   "cell_type": "code",
   "execution_count": 54,
   "id": "fbfe79b9",
   "metadata": {},
   "outputs": [
    {
     "name": "stdout",
     "output_type": "stream",
     "text": [
      "[4, 16, 36, 64, 100]\n"
     ]
    }
   ],
   "source": [
    "# List comprehensions with condition\n",
    "even_squares = [x**2 for x in numbers if x % 2 == 0]\n",
    "print(even_squares)"
   ]
  },
  {
   "cell_type": "code",
   "execution_count": 56,
   "id": "d0fd4aaf",
   "metadata": {},
   "outputs": [
    {
     "name": "stdout",
     "output_type": "stream",
     "text": [
      "[[1, 'a'], [1, 'b'], [1, 'c'], [1, 'd'], [2, 'a'], [2, 'b'], [2, 'c'], [2, 'd'], [3, 'a'], [3, 'b'], [3, 'c'], [3, 'd'], [4, 'a'], [4, 'b'], [4, 'c'], [4, 'd']]\n"
     ]
    }
   ],
   "source": [
    "# Nested lists comprehensions\n",
    "list1 = [1,2,3,4]\n",
    "list2 = ['a','b','c','d']\n",
    "\n",
    "pair = [[i,j] for i in list1 for j in list2]\n",
    "print(pair)"
   ]
  },
  {
   "cell_type": "code",
   "execution_count": 57,
   "id": "c05bf502",
   "metadata": {},
   "outputs": [
    {
     "name": "stdout",
     "output_type": "stream",
     "text": [
      "[7, 5, 5, 6]\n"
     ]
    }
   ],
   "source": [
    "# List comprehensions with inbuild functions\n",
    "\n",
    "words =[\"chamidu\",\"dewmi\",\"binol\",\"nirmal\"]\n",
    "\n",
    "lengths = [len(word) for word in words]\n",
    "print(lengths)"
   ]
  }
 ],
 "metadata": {
  "kernelspec": {
   "display_name": "Python 3",
   "language": "python",
   "name": "python3"
  },
  "language_info": {
   "codemirror_mode": {
    "name": "ipython",
    "version": 3
   },
   "file_extension": ".py",
   "mimetype": "text/x-python",
   "name": "python",
   "nbconvert_exporter": "python",
   "pygments_lexer": "ipython3",
   "version": "3.12.0"
  }
 },
 "nbformat": 4,
 "nbformat_minor": 5
}
