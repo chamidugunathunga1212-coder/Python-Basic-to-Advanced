{
 "cells": [
  {
   "cell_type": "markdown",
   "id": "a71a3102",
   "metadata": {},
   "source": [
    "####  tuples are immutable - they cannot be changed after creation"
   ]
  },
  {
   "cell_type": "code",
   "execution_count": 4,
   "id": "dfdf791a",
   "metadata": {},
   "outputs": [
    {
     "name": "stdout",
     "output_type": "stream",
     "text": [
      "Original tuple: (1, 2, 3, 4, 5)\n",
      "Type:  <class 'tuple'>\n"
     ]
    }
   ],
   "source": [
    "# creating a tuple\n",
    "my_tuple = (1, 2, 3, 4, 5)\n",
    "print(\"Original tuple:\", my_tuple)\n",
    "print(\"Type: \",type(my_tuple))"
   ]
  },
  {
   "cell_type": "code",
   "execution_count": 7,
   "id": "09b6cefd",
   "metadata": {},
   "outputs": [
    {
     "name": "stdout",
     "output_type": "stream",
     "text": [
      "(1, 2, 3, 4, 5, 6)\n"
     ]
    },
    {
     "data": {
      "text/plain": [
       "tuple"
      ]
     },
     "execution_count": 7,
     "metadata": {},
     "output_type": "execute_result"
    }
   ],
   "source": [
    "# List convert to tuple\n",
    "numbers = tuple([1,2,3,4,5,6])\n",
    "print(numbers)\n",
    "type(numbers)"
   ]
  },
  {
   "cell_type": "code",
   "execution_count": 8,
   "id": "5f01af4b",
   "metadata": {},
   "outputs": [
    {
     "name": "stdout",
     "output_type": "stream",
     "text": [
      "Mixed Tuple: (1, 'Hello', 3.14, True)\n"
     ]
    }
   ],
   "source": [
    "# mixed data types\n",
    "mixed_tuple = (1, \"Hello\", 3.14, True)\n",
    "print(\"Mixed Tuple:\", mixed_tuple)"
   ]
  },
  {
   "cell_type": "code",
   "execution_count": 10,
   "id": "fa5a702a",
   "metadata": {},
   "outputs": [
    {
     "name": "stdout",
     "output_type": "stream",
     "text": [
      "First element: 1\n",
      "Last element: 6\n"
     ]
    }
   ],
   "source": [
    "# Accessing elements\n",
    "print(\"First element:\", numbers[0])\n",
    "print(\"Last element:\", numbers[-1])"
   ]
  },
  {
   "cell_type": "code",
   "execution_count": 12,
   "id": "c7d6cf22",
   "metadata": {},
   "outputs": [
    {
     "name": "stdout",
     "output_type": "stream",
     "text": [
      "Sliced tuple (1 to 4): (2, 3, 4)\n",
      "Sliced tuple (from 3): (4, 5, 6)\n",
      "Sliced tuple (up to 3): (1, 2, 3)\n",
      "(6, 5, 4, 3, 2, 1)\n"
     ]
    }
   ],
   "source": [
    "# Slicing\n",
    "print(\"Sliced tuple (1 to 4):\", numbers[1:4])\n",
    "print(\"Sliced tuple (from 3):\", numbers[3:])\n",
    "print(\"Sliced tuple (up to 3):\", numbers[:3])\n",
    "print(numbers[::-1])  # Reverse the tuple"
   ]
  },
  {
   "cell_type": "code",
   "execution_count": 14,
   "id": "7c72618b",
   "metadata": {},
   "outputs": [
    {
     "name": "stdout",
     "output_type": "stream",
     "text": [
      "Concatenated Tuple: (1, 2, 3, 4, 5, 6)\n"
     ]
    }
   ],
   "source": [
    "# Tuples Operations\n",
    "\n",
    "# Concatenation\n",
    "tuple1 = (1, 2, 3)\n",
    "tuple2 = (4, 5, 6)\n",
    "concatenated = tuple1 + tuple2\n",
    "print(\"Concatenated Tuple:\", concatenated)"
   ]
  },
  {
   "cell_type": "code",
   "execution_count": 15,
   "id": "512731ef",
   "metadata": {},
   "outputs": [
    {
     "name": "stdout",
     "output_type": "stream",
     "text": [
      "Tuple after attempting modification (should be unchanged): (1, 2, 3)\n"
     ]
    }
   ],
   "source": [
    "# Immutability nature of tuples\n",
    "# tuples are immutable - they cannot be changed after creation\n",
    "# Uncommenting the following line will raise an error\n",
    "# tuple1[0] = 10  # This will raise a TypeError\n",
    "print(\"Tuple after attempting modification (should be unchanged):\", tuple1)\n"
   ]
  },
  {
   "cell_type": "code",
   "execution_count": 17,
   "id": "e75241fb",
   "metadata": {},
   "outputs": [
    {
     "name": "stdout",
     "output_type": "stream",
     "text": [
      "List before modification: [1, 2, 3, 4, 5]\n",
      "List after modification: [1, 'chamidu', 3, 4, 5]\n",
      "Tuple before modification attempt: (1, 2, 3, 4, 5)\n",
      "Tuple after modification attempt (should be unchanged): (1, 2, 3, 4, 5)\n"
     ]
    }
   ],
   "source": [
    "list = [1, 2, 3, 4, 5]\n",
    "print(\"List before modification:\", list)\n",
    "list[1] = 'chamidu'  # This is valid\n",
    "print(\"List after modification:\", list)\n",
    "\n",
    "####  tuples are immutable - they cannot be changed after creation\n",
    "tuple = (1, 2, 3, 4, 5)\n",
    "print(\"Tuple before modification attempt:\", tuple)\n",
    "# tuple[1] = 'chamidu'  # This will raise a TypeError if uncommented\n",
    "print(\"Tuple after modification attempt (should be unchanged):\", tuple)"
   ]
  },
  {
   "cell_type": "code",
   "execution_count": 20,
   "id": "ebb78361",
   "metadata": {},
   "outputs": [
    {
     "name": "stdout",
     "output_type": "stream",
     "text": [
      "Index of first occurrence of 2: 1\n",
      "Count of 2 in tuple: 3\n"
     ]
    }
   ],
   "source": [
    "# Tuple Methods\n",
    "# count() and index()\n",
    "tuple = (1, 2, 3, 2, 4, 2, 5)\n",
    "print(\"Index of first occurrence of 2:\", tuple.index(2)) # index of first occurrence of 2\n",
    "print(\"Count of 2 in tuple:\", tuple.count(2)) # count of 2 in tuple"
   ]
  },
  {
   "cell_type": "code",
   "execution_count": 24,
   "id": "9621c366",
   "metadata": {},
   "outputs": [
    {
     "name": "stdout",
     "output_type": "stream",
     "text": [
      "Packed Tuple: (1, 'Hello', 3.14)\n",
      "Unpacked Values: 1 Hello 3.14\n"
     ]
    }
   ],
   "source": [
    "# Packing and Unpacking\n",
    "\n",
    "# Packing\n",
    "packed_tuple = 1, \"Hello\", 3.14 # by default comma will pack the values into a tuple\n",
    "print(\"Packed Tuple:\", packed_tuple)\n",
    "\n",
    "# Unpacking\n",
    "a, b, c = packed_tuple # unpacking the tuple into variables\n",
    "print(\"Unpacked Values:\", a, b, c)"
   ]
  },
  {
   "cell_type": "code",
   "execution_count": 27,
   "id": "d9b8acfc",
   "metadata": {},
   "outputs": [
    {
     "name": "stdout",
     "output_type": "stream",
     "text": [
      "a: 1\n",
      "b: [2, 3, 4, 5]\n",
      "c: 6\n"
     ]
    }
   ],
   "source": [
    "# unpacking with *\n",
    "# * can be used to unpack multiple values into a list \n",
    "packed_tuple = (1, 2, 3, 4, 5, 6)\n",
    "a, *b, c = packed_tuple\n",
    "print(\"a:\", a)\n",
    "print(\"b:\", b)\n",
    "print(\"c:\", c)"
   ]
  },
  {
   "cell_type": "code",
   "execution_count": 34,
   "id": "1adac7c9",
   "metadata": {},
   "outputs": [
    {
     "name": "stdout",
     "output_type": "stream",
     "text": [
      "Nested List: [[1, 2, 4], [5, 6, 7], [8, 9, 10]]\n",
      "Accessing nested element (6): 6\n",
      "Sliced nested list (first two sublists): [[1, 2, 4], [5, 6, 7]]\n"
     ]
    }
   ],
   "source": [
    "# Nested Lists\n",
    "\n",
    "list = [[1,2,4], [5,6,7], [8,9,10]]\n",
    "print(\"Nested List:\", list)\n",
    "print(\"Accessing nested element (6):\", list[1][1])\n",
    "\n",
    "# slicing nested list\n",
    "print(\"Sliced nested list (first two sublists):\", list[:2])"
   ]
  },
  {
   "cell_type": "code",
   "execution_count": 40,
   "id": "d10e8940",
   "metadata": {},
   "outputs": [
    {
     "name": "stdout",
     "output_type": "stream",
     "text": [
      "Nested List: [[1, 2, 4], [5, 6, 7], (8, 9, 10)]\n",
      "Accessing nested element (6): 6\n",
      "Sliced nested list (first two sublists): [[1, 2, 4], [5, 6, 7]]\n",
      "Accessing tuple: (8, 9, 10)\n"
     ]
    }
   ],
   "source": [
    "# Nested Lists with tuples\n",
    "\n",
    "list = [[1,2,4], [5,6,7], (8,9,10)]\n",
    "print(\"Nested List:\", list)\n",
    "print(\"Accessing nested element (6):\", list[1][1])\n",
    "\n",
    "# slicing nested list\n",
    "print(\"Sliced nested list (first two sublists):\", list[:2])\n",
    "\n",
    "# accessing tuple inside the nested list\n",
    "print(\"Accessing tuple:\", list[2][0:3])"
   ]
  },
  {
   "cell_type": "code",
   "execution_count": null,
   "id": "22bdaf87",
   "metadata": {},
   "outputs": [
    {
     "name": "stdout",
     "output_type": "stream",
     "text": [
      "Nested Tuple: (1, (2, 3), (4, (5, 6)))\n",
      "Accessing nested element (5): 5\n"
     ]
    }
   ],
   "source": [
    "# Nested Tuples\n",
    "\n",
    "nested_tuple = (1, (2, 3), (4, (5, 6)))\n",
    "print(\"Nested Tuple:\", nested_tuple)\n",
    "print(\"Accessing nested element (5):\", nested_tuple[2][1][0])\n",
    "\n"
   ]
  },
  {
   "cell_type": "code",
   "execution_count": 45,
   "id": "c52413a1",
   "metadata": {},
   "outputs": [
    {
     "name": "stdout",
     "output_type": "stream",
     "text": [
      "Nested1 Tuple: ((1, 2, 3), (4, 5, 6), (7, 8, 9))\n",
      "Accessing nested element (5): 5\n",
      "Accessing first tuple: (1, 2, 3)\n"
     ]
    }
   ],
   "source": [
    "# Nested Tuples - Example 2\n",
    "\n",
    "nested1_tuple = ((1,2,3),(4,5,6),(7,8,9))\n",
    "print(\"Nested1 Tuple:\", nested1_tuple)\n",
    "\n",
    "# Accessing element (5)\n",
    "print(\"Accessing nested element (5):\", nested1_tuple[1][1])\n",
    "\n",
    "# Accessing the first tuple\n",
    "print(\"Accessing first tuple:\", nested1_tuple[0])"
   ]
  },
  {
   "cell_type": "code",
   "execution_count": 49,
   "id": "fa76ac47",
   "metadata": {},
   "outputs": [
    {
     "name": "stdout",
     "output_type": "stream",
     "text": [
      "1 2 3 \n",
      "4 5 6 \n",
      "7 8 9 \n"
     ]
    }
   ],
   "source": [
    "# Iterating through a tuple\n",
    "\n",
    "for item in nested1_tuple:\n",
    "    for i in item:\n",
    "        print(i,end=' ')\n",
    "    print()    \n"
   ]
  },
  {
   "cell_type": "code",
   "execution_count": 54,
   "id": "86d4aa4a",
   "metadata": {},
   "outputs": [
    {
     "name": "stdout",
     "output_type": "stream",
     "text": [
      "Original Tuple: (1, 3, 2, 7, 5)\n"
     ]
    }
   ],
   "source": [
    "tuple1 = (1, 3, 2, 7, 5)\n",
    "print(\"Original Tuple:\", tuple1)"
   ]
  }
 ],
 "metadata": {
  "kernelspec": {
   "display_name": "Python 3",
   "language": "python",
   "name": "python3"
  },
  "language_info": {
   "codemirror_mode": {
    "name": "ipython",
    "version": 3
   },
   "file_extension": ".py",
   "mimetype": "text/x-python",
   "name": "python",
   "nbconvert_exporter": "python",
   "pygments_lexer": "ipython3",
   "version": "3.12.0"
  }
 },
 "nbformat": 4,
 "nbformat_minor": 5
}
