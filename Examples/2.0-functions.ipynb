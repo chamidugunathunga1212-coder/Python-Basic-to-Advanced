{
 "cells": [
  {
   "cell_type": "code",
   "execution_count": 3,
   "id": "7000e7c4",
   "metadata": {},
   "outputs": [
    {
     "name": "stdout",
     "output_type": "stream",
     "text": [
      "77.0\n",
      "25.0\n"
     ]
    }
   ],
   "source": [
    "# Exaple 1 - Temperature Conversion\n",
    "\n",
    "def convert_temperature(temp,unit):\n",
    "    \"\"\"This function converts temperature between celsius and fahrenheit\"\"\"\n",
    "\n",
    "    if unit == 'C':\n",
    "        return temp*9/5+32 # celsius to fahrenheit\n",
    "    elif unit == 'F':\n",
    "        return (temp-32)*5/9 # fahrenheit to celsius\n",
    "    else:\n",
    "        return None\n",
    "\n",
    "print(convert_temperature(25,'C'))\n",
    "print(convert_temperature(77,'F'))\n"
   ]
  },
  {
   "cell_type": "code",
   "execution_count": 9,
   "id": "ebfee553",
   "metadata": {},
   "outputs": [
    {
     "name": "stdout",
     "output_type": "stream",
     "text": [
      "False\n",
      "False\n",
      "True\n"
     ]
    }
   ],
   "source": [
    "# Example - Password Strength Checker\n",
    "\n",
    "def is_strong_password(password):\n",
    "\n",
    "    if len(password)<8:\n",
    "        return False\n",
    "    if not any(char.isdigit() for char in password):\n",
    "        return False\n",
    "    \n",
    "    if not any(char.islower() for char in password):\n",
    "        return False\n",
    "    \n",
    "    if not any(char.isupper() for char in password):\n",
    "        return False\n",
    "    if not any(char in '!&@#*%%!_+()?' for char in password):\n",
    "        return False\n",
    "    \n",
    "    return True\n",
    "\n",
    "print(is_strong_password('cjfdjnfoffqunca[oa]'))\n",
    "print(is_strong_password('Cafbouwfewjin%'))\n",
    "print(is_strong_password('Ccsjsiamemsjdx&@98'))\n"
   ]
  },
  {
   "cell_type": "code",
   "execution_count": 14,
   "id": "232deb9b",
   "metadata": {},
   "outputs": [
    {
     "name": "stdout",
     "output_type": "stream",
     "text": [
      "30.0\n"
     ]
    }
   ],
   "source": [
    "# Example - Calculate the total cost of items in a shopping cart\n",
    "\n",
    "def calculate_total_cost(cart):\n",
    "\n",
    "    total_price = 0\n",
    "\n",
    "    for item in cart:\n",
    "        total_price += item['price'] * item['quantity']\n",
    "\n",
    "    return total_price    \n",
    "\n",
    "cart = [\n",
    "    {'name':'apple','price':0.5,'quantity':4},\n",
    "    {'name':'orange','price':1,'quantity':2},\n",
    "    {'name':'grapes','price':2,'quantity':5},\n",
    "    {'name':'pineapple','price':4,'quantity':4},\n",
    "]\n",
    "\n",
    "cost = calculate_total_cost(cart)\n",
    "print(cost)\n"
   ]
  },
  {
   "cell_type": "code",
   "execution_count": 17,
   "id": "583bb26c",
   "metadata": {},
   "outputs": [
    {
     "name": "stdout",
     "output_type": "stream",
     "text": [
      "True\n",
      "False\n"
     ]
    }
   ],
   "source": [
    "# example - check if a string is palindrome\n",
    "\n",
    "# aba -> aba = palindrome\n",
    "# abb -> bba = not palidrome\n",
    "\n",
    "def is_palindrome(word):\n",
    "\n",
    "    word = word.lower().replace(\" \",\"\")\n",
    "    return word ==word[::-1]\n",
    "\n",
    "\n",
    "print(is_palindrome('aba'))\n",
    "print(is_palindrome('bba'))\n",
    "\n",
    "\n"
   ]
  },
  {
   "cell_type": "code",
   "execution_count": 18,
   "id": "92eb8ca3",
   "metadata": {},
   "outputs": [
    {
     "name": "stdout",
     "output_type": "stream",
     "text": [
      "120\n"
     ]
    }
   ],
   "source": [
    "# example - calculate the factorials of number using recusion\n",
    "\n",
    "# 5! = 5*4*3*2*1\n",
    "\n",
    "def factorial(n):\n",
    "\n",
    "    if n == 0:\n",
    "        return 1\n",
    "    else:\n",
    "        return n * factorial(n-1)\n",
    "    \n",
    "print(factorial(5))    "
   ]
  },
  {
   "cell_type": "code",
   "execution_count": 26,
   "id": "6a02ff98",
   "metadata": {},
   "outputs": [
    {
     "name": "stdout",
     "output_type": "stream",
     "text": [
      "{'hellow': 2, 'world': 1, 'i': 1, 'am': 1, 'chamidu': 2, 'looking': 1, 'for': 2, 'python': 1, 'programming': 1, 'these': 1, 'days': 1, 'how': 1, 'are': 1, 'you': 2}\n"
     ]
    }
   ],
   "source": [
    "# example - a function to read a file and count the frequency of the word\n",
    "\n",
    "def count_word_frequency(file_path):\n",
    "\n",
    "    word_count = {}\n",
    "\n",
    "    with open(file_path,'r') as file:\n",
    "        for line in file:\n",
    "            words = line.split()\n",
    "\n",
    "            for word in words:\n",
    "                word = word.lower().strip('.,!?;:\"\\'')\n",
    "                word_count[word] = word_count.get(word,0)+1\n",
    "    return word_count\n",
    "\n",
    "file_path = 'sample.txt'\n",
    "word_frequency = count_word_frequency(file_path)\n",
    "print(word_frequency)       "
   ]
  },
  {
   "cell_type": "code",
   "execution_count": 28,
   "id": "78884e16",
   "metadata": {},
   "outputs": [
    {
     "name": "stdout",
     "output_type": "stream",
     "text": [
      "test@example.com => Valid\n",
      "invalid-email@ => Invalid\n",
      "user.name@domain.co => Valid\n",
      "abc@com => Invalid\n"
     ]
    }
   ],
   "source": [
    "# example - validate email address\n",
    "\n",
    "import re\n",
    "\n",
    "def is_valid_email(email):\n",
    "    pattern = r'^[a-zA-Z0-9._%+-]+@[a-zA-Z0-9.-]+\\.[a-zA-Z]{2,}$'\n",
    "    if re.match(pattern, email):\n",
    "        return True\n",
    "    return False\n",
    "\n",
    "# Test\n",
    "emails = [\"test@example.com\", \"invalid-email@\", \"user.name@domain.co\", \"abc@com\"]\n",
    "for e in emails:\n",
    "    print(e, \"=>\", \"Valid\" if is_valid_email(e) else \"Invalid\")\n"
   ]
  }
 ],
 "metadata": {
  "kernelspec": {
   "display_name": "Python 3",
   "language": "python",
   "name": "python3"
  },
  "language_info": {
   "codemirror_mode": {
    "name": "ipython",
    "version": 3
   },
   "file_extension": ".py",
   "mimetype": "text/x-python",
   "name": "python",
   "nbconvert_exporter": "python",
   "pygments_lexer": "ipython3",
   "version": "3.12.0"
  }
 },
 "nbformat": 4,
 "nbformat_minor": 5
}
