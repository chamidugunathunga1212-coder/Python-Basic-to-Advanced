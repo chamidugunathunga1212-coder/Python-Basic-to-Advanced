{
 "cells": [
  {
   "cell_type": "code",
   "execution_count": 2,
   "id": "174b3bf0",
   "metadata": {},
   "outputs": [
    {
     "name": "stdout",
     "output_type": "stream",
     "text": [
      "Original ToDo List:  ['Go to the campus', 'Drive my car', 'take a lunch']\n",
      "After Adding Some Tasks and ToDo List : ['Go to the campus', 'Drive my car', 'take a lunch', 'Clean the room', 'Go to the Gym']\n",
      "After the removing some tasks and ToDo List:  ['Go to the campus', 'Drive my car', 'Clean the room', 'Go to the Gym']\n",
      "Hey Don't forget to drive the car\n",
      "Remaing Tasks: \n",
      "Go to the campus\n",
      "Drive my car\n",
      "Clean the room\n",
      "Go to the Gym\n"
     ]
    }
   ],
   "source": [
    "# Example 01\n",
    "\n",
    "# create to list to keep track of task\n",
    "to_do_list = [\"Go to the campus\",\"Drive my car\",\"take a lunch\"]\n",
    "print(\"Original ToDo List: \",to_do_list)\n",
    "\n",
    "# adding some tasks to todo list\n",
    "to_do_list.append(\"Clean the room\")\n",
    "to_do_list.append(\"Go to the Gym\")\n",
    "\n",
    "print(\"After Adding Some Tasks and ToDo List :\",to_do_list)\n",
    "\n",
    "# removing the tasks from the todo list\n",
    "to_do_list.remove(\"take a lunch\")\n",
    "print(\"After the removing some tasks and ToDo List: \",to_do_list)\n",
    "\n",
    "# check the if a task is in the to do list\n",
    "if \"Drive my car\" in to_do_list:\n",
    "    print(\"Hey Don't forget to drive the car\")\n",
    "\n",
    "\n",
    "print(\"Remaing Tasks: \")\n",
    "for task in to_do_list:\n",
    "    print(f\"{task}\")    \n",
    "\n",
    "\n"
   ]
  },
  {
   "cell_type": "code",
   "execution_count": 5,
   "id": "948158bc",
   "metadata": {},
   "outputs": [
    {
     "name": "stdout",
     "output_type": "stream",
     "text": [
      "Average Grade: 71.5\n",
      "Hightest Grade: 97\n",
      "Lowest Grade: 53\n"
     ]
    }
   ],
   "source": [
    "# Example 02\n",
    "\n",
    "# organizing the students grades\n",
    "grades = [53,67,89,97,54]\n",
    "\n",
    "# Adding the new Grade \n",
    "grades.append(69)\n",
    "\n",
    "# calculate the average grade\n",
    "average_grade = sum(grades)/len(grades)\n",
    "print(f\"Average Grade: {average_grade}\")\n",
    "\n",
    "# Finding the highest and lowest grade\n",
    "highest_grade = max(grades)\n",
    "lowest_grade = min(grades)\n",
    "\n",
    "print(f\"Hightest Grade: {highest_grade}\")\n",
    "print(f\"Lowest Grade: {lowest_grade}\")\n"
   ]
  },
  {
   "cell_type": "code",
   "execution_count": 7,
   "id": "66ddc62b",
   "metadata": {},
   "outputs": [
    {
     "name": "stdout",
     "output_type": "stream",
     "text": [
      "bananas are out of stock\n",
      "Stocks in Available..........\n",
      "apples\n",
      "oranges\n",
      "grapes\n"
     ]
    }
   ],
   "source": [
    "# Example 03\n",
    "\n",
    "# Managing an Inventory\n",
    "inventory = ['apples','bananas','oranges']\n",
    "\n",
    "# Adding an new item\n",
    "inventory.append('grapes')\n",
    "\n",
    "# removing an item\n",
    "inventory.remove('bananas')\n",
    "\n",
    "# check if an item is in the stock\n",
    "\n",
    "item = \"bananas\"\n",
    "if item in inventory:\n",
    "    print(f\"{item} are in the stock\")\n",
    "else:\n",
    "    print(f\"{item} are out of stock\")    \n",
    "\n",
    "# printing the inventory\n",
    "print(\"Stocks in Available..........\")\n",
    "\n",
    "for item in inventory:\n",
    "    print(f\"{item}\")"
   ]
  },
  {
   "cell_type": "code",
   "execution_count": 8,
   "id": "ac6fa5bc",
   "metadata": {},
   "outputs": [
    {
     "name": "stdout",
     "output_type": "stream",
     "text": [
      "Positive Feedbacks: 2\n",
      "User Feedbacks.........\n",
      "Great Service\n",
      "Could be better\n",
      "Excellent experience\n",
      "Not happy with the service\n"
     ]
    }
   ],
   "source": [
    "# Example 04\n",
    "\n",
    "# use a list to collect and analyse user feedbacks\n",
    "feedbacks = [\"Great Service\",\"Could be better\",\"Excellent experience\"]\n",
    "\n",
    "# Adding new feedbacks\n",
    "feedbacks.append(\"Not happy with the service\")\n",
    "\n",
    "# Counting the specifics feedbacks\n",
    "positive_feedback_count = sum(1 for comment in feedbacks if \"great\" in comment.lower() or \"excellent\" in comment.lower())\n",
    "print(f\"Positive Feedbacks: {positive_feedback_count}\")\n",
    "\n",
    "# Printing All Feedbacks\n",
    "print(\"User Feedbacks.........\")\n",
    "for feedback in feedbacks:\n",
    "    print(f\"{feedback}\")\n"
   ]
  }
 ],
 "metadata": {
  "kernelspec": {
   "display_name": "Python 3",
   "language": "python",
   "name": "python3"
  },
  "language_info": {
   "codemirror_mode": {
    "name": "ipython",
    "version": 3
   },
   "file_extension": ".py",
   "mimetype": "text/x-python",
   "name": "python",
   "nbconvert_exporter": "python",
   "pygments_lexer": "ipython3",
   "version": "3.12.0"
  }
 },
 "nbformat": 4,
 "nbformat_minor": 5
}
