{
 "cells": [
  {
   "cell_type": "code",
   "execution_count": 1,
   "id": "d66d75f4",
   "metadata": {},
   "outputs": [
    {
     "name": "stdout",
     "output_type": "stream",
     "text": [
      "10\n"
     ]
    }
   ],
   "source": [
    "# assigne a value to a variable\n",
    "x = 10\n",
    "print(x)"
   ]
  },
  {
   "cell_type": "code",
   "execution_count": 3,
   "id": "cf9e97da",
   "metadata": {},
   "outputs": [
    {
     "name": "stdout",
     "output_type": "stream",
     "text": [
      "Age: 25\n",
      "Name: chamidu\n"
     ]
    }
   ],
   "source": [
    "# declaring and assigning values\n",
    "y, z = 5, 15\n",
    "age = 25\n",
    "name = 'chamidu'\n",
    "print('Age:', age)\n",
    "print('Name:', name)"
   ]
  },
  {
   "cell_type": "code",
   "execution_count": 4,
   "id": "af92b1ff",
   "metadata": {},
   "outputs": [
    {
     "name": "stdout",
     "output_type": "stream",
     "text": [
      "10 20 30 40 50\n"
     ]
    }
   ],
   "source": [
    "# nameing conventions\n",
    "# valid variable names\n",
    "my_variable = 10\n",
    "variable1 = 20\n",
    "_variable_name = 30\n",
    "variableName = 40  # camelCase\n",
    "variable_name = 50  # snake_case\n",
    "print(my_variable, variable1, _variable_name, variableName, variable_name)"
   ]
  },
  {
   "cell_type": "code",
   "execution_count": 5,
   "id": "073f203f",
   "metadata": {},
   "outputs": [
    {
     "name": "stdout",
     "output_type": "stream",
     "text": [
      "<class 'int'>\n",
      "chamidu\n",
      "<class 'str'>\n"
     ]
    }
   ],
   "source": [
    "# varriables types\n",
    "type(x)  # int\n",
    "type(name)  # str\n",
    "# Type Interference\n",
    "x = 10\n",
    "print(type(x))\n",
    "x = 'chamidu'\n",
    "print(x)  # chamidu\n",
    "print(type(x))  # str"
   ]
  },
  {
   "cell_type": "code",
   "execution_count": 6,
   "id": "fd4e7488",
   "metadata": {},
   "outputs": [
    {
     "name": "stdout",
     "output_type": "stream",
     "text": [
      "100 <class 'int'>\n"
     ]
    }
   ],
   "source": [
    "# type conversion\n",
    "num_str = \"100\"\n",
    "num_int = int(num_str)  # convert string to integer\n",
    "print(num_int, type(num_int))"
   ]
  },
  {
   "cell_type": "code",
   "execution_count": 7,
   "id": "2e5a941b",
   "metadata": {},
   "outputs": [
    {
     "name": "stdout",
     "output_type": "stream",
     "text": [
      "<class 'int'>\n",
      "<class 'str'>\n"
     ]
    }
   ],
   "source": [
    "#dynamic typing in python\n",
    "x = 10\n",
    "print(type(x))  # int\n",
    "x = \"chamidu\"\n",
    "print(type(x))  # str"
   ]
  },
  {
   "cell_type": "code",
   "execution_count": 8,
   "id": "e9fe8e11",
   "metadata": {},
   "outputs": [
    {
     "name": "stdout",
     "output_type": "stream",
     "text": [
      "Hello, chamidu!\n"
     ]
    }
   ],
   "source": [
    "# enter usr input\n",
    "user_name = input(\"Enter your name: \")\n",
    "print(\"Hello, \" + user_name + \"!\")"
   ]
  },
  {
   "cell_type": "code",
   "execution_count": null,
   "id": "71d9fd8f",
   "metadata": {},
   "outputs": [],
   "source": []
  }
 ],
 "metadata": {
  "kernelspec": {
   "display_name": "Python 3",
   "language": "python",
   "name": "python3"
  },
  "language_info": {
   "codemirror_mode": {
    "name": "ipython",
    "version": 3
   },
   "file_extension": ".py",
   "mimetype": "text/x-python",
   "name": "python",
   "nbconvert_exporter": "python",
   "pygments_lexer": "ipython3",
   "version": "3.12.0"
  }
 },
 "nbformat": 4,
 "nbformat_minor": 5
}
