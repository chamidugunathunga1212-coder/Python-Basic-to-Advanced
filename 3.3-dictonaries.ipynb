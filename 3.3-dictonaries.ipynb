{
 "cells": [
  {
   "cell_type": "code",
   "execution_count": 13,
   "id": "adfec670",
   "metadata": {},
   "outputs": [
    {
     "name": "stdout",
     "output_type": "stream",
     "text": [
      "<class 'dict'>\n",
      "<class 'dict'>\n"
     ]
    }
   ],
   "source": [
    "# create the dictonary\n",
    "\n",
    "# unordered,mutable \n",
    "\n",
    "empty_dict = {}\n",
    "empty_dict1 = dict()\n",
    "print(type(empty_dict1))\n",
    "print(type(empty_dict))"
   ]
  },
  {
   "cell_type": "code",
   "execution_count": 5,
   "id": "9c712a24",
   "metadata": {},
   "outputs": [
    {
     "name": "stdout",
     "output_type": "stream",
     "text": [
      "{'name': 'chamidu', 'age': 22, 'grade': 24}\n"
     ]
    }
   ],
   "source": [
    "student = {\n",
    "    \"name\":\"chamidu\",\n",
    "    \"age\":22,\n",
    "    \"grade\":24\n",
    "\n",
    "}\n",
    "\n",
    "print(student)"
   ]
  },
  {
   "cell_type": "code",
   "execution_count": 17,
   "id": "122f61ab",
   "metadata": {},
   "outputs": [
    {
     "name": "stdout",
     "output_type": "stream",
     "text": [
      "A\n",
      "22\n"
     ]
    }
   ],
   "source": [
    "# accesing dict elements\n",
    "\n",
    "student = {\n",
    "    \"name\":\"chamidu\",\n",
    "    \"age\":22,\n",
    "    \"grade\":'A'\n",
    "\n",
    "}\n",
    "\n",
    "print(student['grade'])\n",
    "print(student['age'])"
   ]
  },
  {
   "cell_type": "code",
   "execution_count": 18,
   "id": "cc57dcd5",
   "metadata": {},
   "outputs": [
    {
     "name": "stdout",
     "output_type": "stream",
     "text": [
      "A\n",
      "Not Available\n"
     ]
    }
   ],
   "source": [
    "# access elements using get() method\n",
    "\n",
    "print(student.get('grade'))\n",
    "print(student.get('last_name',\"Not Available\"))"
   ]
  },
  {
   "cell_type": "code",
   "execution_count": 21,
   "id": "7bcdc17a",
   "metadata": {},
   "outputs": [
    {
     "name": "stdout",
     "output_type": "stream",
     "text": [
      "{'name': 'chamidu', 'age': 12, 'grade': 'A', 'address': 'Sri Lanka'}\n",
      "{'name': 'chamidu', 'age': 12, 'grade': 'A'}\n"
     ]
    }
   ],
   "source": [
    "# modifying the dict elements\n",
    "\n",
    "# change the key's value\n",
    "student['age'] = 12\n",
    "# add new element to the dict\n",
    "student['address'] = 'Sri Lanka'\n",
    "print(student)\n",
    "# delete the key\n",
    "del student['address']\n",
    "print(student)\n"
   ]
  },
  {
   "cell_type": "code",
   "execution_count": 26,
   "id": "7bae1964",
   "metadata": {},
   "outputs": [
    {
     "name": "stdout",
     "output_type": "stream",
     "text": [
      "dict_keys(['name', 'age', 'grade'])\n",
      "dict_values(['chamidu', 12, 'A'])\n",
      "dict_items([('name', 'chamidu'), ('age', 12), ('grade', 'A')])\n"
     ]
    }
   ],
   "source": [
    "# dict methods\n",
    "\n",
    "# get all the keys in the dict \n",
    "keys = student.keys()\n",
    "print(keys)\n",
    "\n",
    "# get all the values in the dict\n",
    "values = student.values()\n",
    "print(values)\n",
    "\n",
    "# get all the key value pairs\n",
    "items = student.items()\n",
    "print(items)"
   ]
  },
  {
   "cell_type": "code",
   "execution_count": null,
   "id": "08161c80",
   "metadata": {},
   "outputs": [
    {
     "name": "stdout",
     "output_type": "stream",
     "text": [
      "{'name': 'chamidu', 'age': 12, 'grade': 'A'}\n",
      "{'name': 'chamidu', 'age': 12, 'grade': 'A'}\n"
     ]
    }
   ],
   "source": [
    "# shallow copy\n",
    "\n",
    "# problem\n",
    "student_copy = student\n",
    "print(student)\n",
    "print(student_copy)"
   ]
  },
  {
   "cell_type": "code",
   "execution_count": 28,
   "id": "74ad88c4",
   "metadata": {},
   "outputs": [
    {
     "name": "stdout",
     "output_type": "stream",
     "text": [
      "{'name': 'Gunathunga', 'age': 12, 'grade': 'A'}\n",
      "{'name': 'Gunathunga', 'age': 12, 'grade': 'A'}\n"
     ]
    }
   ],
   "source": [
    "student['name'] = 'Gunathunga'\n",
    "print(student)\n",
    "print(student_copy)"
   ]
  },
  {
   "cell_type": "code",
   "execution_count": 30,
   "id": "bfa5375d",
   "metadata": {},
   "outputs": [
    {
     "name": "stdout",
     "output_type": "stream",
     "text": [
      "{'name': 'Chamidu', 'age': 12, 'grade': 'A'}\n",
      "{'name': 'Gunathunga', 'age': 12, 'grade': 'A'}\n"
     ]
    }
   ],
   "source": [
    "# solution for shallow copy\n",
    "\n",
    "student_copy1 = student.copy()\n",
    "student['name'] = 'Chamidu'\n",
    "print(student)\n",
    "print(student_copy1)"
   ]
  },
  {
   "cell_type": "code",
   "execution_count": 31,
   "id": "c83c8f47",
   "metadata": {},
   "outputs": [
    {
     "name": "stdout",
     "output_type": "stream",
     "text": [
      "name\n",
      "age\n",
      "grade\n"
     ]
    }
   ],
   "source": [
    "# iterating over the dict\n",
    "\n",
    "# 1. iterating over keys\n",
    "\n",
    "for keys in student.keys():\n",
    "    print(keys)\n"
   ]
  },
  {
   "cell_type": "code",
   "execution_count": 32,
   "id": "1e2b3778",
   "metadata": {},
   "outputs": [
    {
     "name": "stdout",
     "output_type": "stream",
     "text": [
      "Chamidu\n",
      "12\n",
      "A\n"
     ]
    }
   ],
   "source": [
    "# 2. iterating over values\n",
    "\n",
    "for values in student.values():\n",
    "    print(values)"
   ]
  },
  {
   "cell_type": "code",
   "execution_count": 34,
   "id": "f91c52c8",
   "metadata": {},
   "outputs": [
    {
     "name": "stdout",
     "output_type": "stream",
     "text": [
      "key: name and value: Chamidu\n",
      "key: age and value: 12\n",
      "key: grade and value: A\n"
     ]
    }
   ],
   "source": [
    "# 3. iterating over key value pairs\n",
    "\n",
    "for key,value in student.items():\n",
    "    print(f\"key: {key} and value: {value}\") "
   ]
  },
  {
   "cell_type": "code",
   "execution_count": 40,
   "id": "0fd27145",
   "metadata": {},
   "outputs": [
    {
     "name": "stdout",
     "output_type": "stream",
     "text": [
      "{'studet1': {'name': 'binol', 'age': 23, 'address': 'india'}, 'studet2': {'name': 'dewmi', 'age': 21, 'address': 'sri lanka'}}\n"
     ]
    }
   ],
   "source": [
    "# nested dicts\n",
    "\n",
    "students = {\n",
    "    \"studet1\" : {\"name\":\"chamidu\",\"age\":22,\"address\":\"sri lanka\"},\n",
    "    \"studet2\" : {\"name\":\"dewmi\",\"age\":21,\"address\":\"sri lanka\"},\n",
    "    \"studet1\" : {\"name\":\"binol\",\"age\":23,\"address\":\"india\"},\n",
    "}\n",
    "\n",
    "print(students)"
   ]
  },
  {
   "cell_type": "code",
   "execution_count": 37,
   "id": "f6d6cccd",
   "metadata": {},
   "outputs": [
    {
     "name": "stdout",
     "output_type": "stream",
     "text": [
      "dewmi\n"
     ]
    }
   ],
   "source": [
    "# Access nested dicts elements\n",
    "\n",
    "print(students['studet2']['name'])\n",
    "\n"
   ]
  },
  {
   "cell_type": "code",
   "execution_count": 41,
   "id": "3b523bee",
   "metadata": {},
   "outputs": [
    {
     "name": "stdout",
     "output_type": "stream",
     "text": [
      "studet1: {'name': 'binol', 'age': 23, 'address': 'india'}\n",
      "name: binol\n",
      "age: 23\n",
      "address: india\n",
      "studet2: {'name': 'dewmi', 'age': 21, 'address': 'sri lanka'}\n",
      "name: dewmi\n",
      "age: 21\n",
      "address: sri lanka\n"
     ]
    }
   ],
   "source": [
    "# iterating over the nested dicts\n",
    "\n",
    "for student_id,student_info in students.items():\n",
    "    print(f\"{student_id}: {student_info}\")\n",
    "\n",
    "    for keys,values in student_info.items():\n",
    "        print(f\"{keys}: {values}\")"
   ]
  },
  {
   "cell_type": "code",
   "execution_count": 42,
   "id": "b2dfd0a7",
   "metadata": {},
   "outputs": [
    {
     "name": "stdout",
     "output_type": "stream",
     "text": [
      "{0: 0, 1: 1, 2: 4, 3: 9, 4: 16}\n"
     ]
    }
   ],
   "source": [
    "# Dictionary Comphrension\n",
    "\n",
    "squares = {x: x**2 for x in range(5)}\n",
    "print(squares)"
   ]
  },
  {
   "cell_type": "code",
   "execution_count": 44,
   "id": "4810c1e7",
   "metadata": {},
   "outputs": [
    {
     "name": "stdout",
     "output_type": "stream",
     "text": [
      "{0: 0, 2: 4, 4: 16}\n"
     ]
    }
   ],
   "source": [
    "# Coditional Dictionary with Comphrension\n",
    "\n",
    "squares_even = {x: x**2 for x in range(5) if x%2 == 0}\n",
    "print(squares_even)"
   ]
  },
  {
   "cell_type": "code",
   "execution_count": 46,
   "id": "5ee413bf",
   "metadata": {},
   "outputs": [
    {
     "name": "stdout",
     "output_type": "stream",
     "text": [
      "{1: 4, 2: 3, 3: 4, 4: 3, 5: 2}\n"
     ]
    }
   ],
   "source": [
    "# Practicl Example\n",
    "\n",
    "# use dictionary to count the frequency of elements in the list\n",
    "\n",
    "numbers = [1,1,1,1,2,2,2,3,3,3,3,4,4,4,5,5]\n",
    "frequency = {}\n",
    "\n",
    "for number in numbers:\n",
    "    if number in frequency:\n",
    "        frequency[number] +=1\n",
    "    else:\n",
    "        frequency[number] = 1    \n",
    "\n",
    "print(frequency)         "
   ]
  },
  {
   "cell_type": "code",
   "execution_count": 48,
   "id": "e96a7996",
   "metadata": {},
   "outputs": [
    {
     "name": "stdout",
     "output_type": "stream",
     "text": [
      "{'a': 1, 'b': 3, 'c': 4}\n"
     ]
    }
   ],
   "source": [
    "# merge two dicts in one dict\n",
    "\n",
    "dict1 = {'a':1,'b':2}\n",
    "dict2 = {'b':3,'c':4}\n",
    "\n",
    "merged_dict = {**dict1,**dict2} # key word argument - ** any number of key value pairs takes and append\n",
    "print(merged_dict)"
   ]
  }
 ],
 "metadata": {
  "kernelspec": {
   "display_name": "Python 3",
   "language": "python",
   "name": "python3"
  },
  "language_info": {
   "codemirror_mode": {
    "name": "ipython",
    "version": 3
   },
   "file_extension": ".py",
   "mimetype": "text/x-python",
   "name": "python",
   "nbconvert_exporter": "python",
   "pygments_lexer": "ipython3",
   "version": "3.12.0"
  }
 },
 "nbformat": 4,
 "nbformat_minor": 5
}
