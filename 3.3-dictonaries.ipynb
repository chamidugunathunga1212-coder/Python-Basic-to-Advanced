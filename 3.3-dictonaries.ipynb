{
 "cells": [
  {
   "cell_type": "code",
   "execution_count": 13,
   "id": "adfec670",
   "metadata": {},
   "outputs": [
    {
     "name": "stdout",
     "output_type": "stream",
     "text": [
      "<class 'dict'>\n",
      "<class 'dict'>\n"
     ]
    }
   ],
   "source": [
    "# create the dictonary\n",
    "\n",
    "# unordered,mutable \n",
    "\n",
    "empty_dict = {}\n",
    "empty_dict1 = dict()\n",
    "print(type(empty_dict1))\n",
    "print(type(empty_dict))"
   ]
  },
  {
   "cell_type": "code",
   "execution_count": 5,
   "id": "9c712a24",
   "metadata": {},
   "outputs": [
    {
     "name": "stdout",
     "output_type": "stream",
     "text": [
      "{'name': 'chamidu', 'age': 22, 'grade': 24}\n"
     ]
    }
   ],
   "source": [
    "student = {\n",
    "    \"name\":\"chamidu\",\n",
    "    \"age\":22,\n",
    "    \"grade\":24\n",
    "\n",
    "}\n",
    "\n",
    "print(student)"
   ]
  },
  {
   "cell_type": "code",
   "execution_count": 17,
   "id": "122f61ab",
   "metadata": {},
   "outputs": [
    {
     "name": "stdout",
     "output_type": "stream",
     "text": [
      "A\n",
      "22\n"
     ]
    }
   ],
   "source": [
    "# accesing dict elements\n",
    "\n",
    "student = {\n",
    "    \"name\":\"chamidu\",\n",
    "    \"age\":22,\n",
    "    \"grade\":'A'\n",
    "\n",
    "}\n",
    "\n",
    "print(student['grade'])\n",
    "print(student['age'])"
   ]
  },
  {
   "cell_type": "code",
   "execution_count": 18,
   "id": "cc57dcd5",
   "metadata": {},
   "outputs": [
    {
     "name": "stdout",
     "output_type": "stream",
     "text": [
      "A\n",
      "Not Available\n"
     ]
    }
   ],
   "source": [
    "# access elements using get() method\n",
    "\n",
    "print(student.get('grade'))\n",
    "print(student.get('last_name',\"Not Available\"))"
   ]
  },
  {
   "cell_type": "code",
   "execution_count": 21,
   "id": "7bcdc17a",
   "metadata": {},
   "outputs": [
    {
     "name": "stdout",
     "output_type": "stream",
     "text": [
      "{'name': 'chamidu', 'age': 12, 'grade': 'A', 'address': 'Sri Lanka'}\n",
      "{'name': 'chamidu', 'age': 12, 'grade': 'A'}\n"
     ]
    }
   ],
   "source": [
    "# modifying the dict elements\n",
    "\n",
    "# change the key's value\n",
    "student['age'] = 12\n",
    "# add new element to the dict\n",
    "student['address'] = 'Sri Lanka'\n",
    "print(student)\n",
    "# delete the key\n",
    "del student['address']\n",
    "print(student)\n"
   ]
  },
  {
   "cell_type": "code",
   "execution_count": 26,
   "id": "7bae1964",
   "metadata": {},
   "outputs": [
    {
     "name": "stdout",
     "output_type": "stream",
     "text": [
      "dict_keys(['name', 'age', 'grade'])\n",
      "dict_values(['chamidu', 12, 'A'])\n",
      "dict_items([('name', 'chamidu'), ('age', 12), ('grade', 'A')])\n"
     ]
    }
   ],
   "source": [
    "# dict methods\n",
    "\n",
    "# get all the keys in the dict \n",
    "keys = student.keys()\n",
    "print(keys)\n",
    "\n",
    "# get all the values in the dict\n",
    "values = student.values()\n",
    "print(values)\n",
    "\n",
    "# get all the key value pairs\n",
    "items = student.items()\n",
    "print(items)"
   ]
  },
  {
   "cell_type": "code",
   "execution_count": null,
   "id": "08161c80",
   "metadata": {},
   "outputs": [
    {
     "name": "stdout",
     "output_type": "stream",
     "text": [
      "{'name': 'chamidu', 'age': 12, 'grade': 'A'}\n",
      "{'name': 'chamidu', 'age': 12, 'grade': 'A'}\n"
     ]
    }
   ],
   "source": [
    "# shallow copy\n",
    "\n",
    "# problem\n",
    "student_copy = student\n",
    "print(student)\n",
    "print(student_copy)"
   ]
  },
  {
   "cell_type": "code",
   "execution_count": 28,
   "id": "74ad88c4",
   "metadata": {},
   "outputs": [
    {
     "name": "stdout",
     "output_type": "stream",
     "text": [
      "{'name': 'Gunathunga', 'age': 12, 'grade': 'A'}\n",
      "{'name': 'Gunathunga', 'age': 12, 'grade': 'A'}\n"
     ]
    }
   ],
   "source": [
    "student['name'] = 'Gunathunga'\n",
    "print(student)\n",
    "print(student_copy)"
   ]
  },
  {
   "cell_type": "code",
   "execution_count": null,
   "id": "bfa5375d",
   "metadata": {},
   "outputs": [],
   "source": []
  }
 ],
 "metadata": {
  "kernelspec": {
   "display_name": "Python 3",
   "language": "python",
   "name": "python3"
  },
  "language_info": {
   "codemirror_mode": {
    "name": "ipython",
    "version": 3
   },
   "file_extension": ".py",
   "mimetype": "text/x-python",
   "name": "python",
   "nbconvert_exporter": "python",
   "pygments_lexer": "ipython3",
   "version": "3.12.0"
  }
 },
 "nbformat": 4,
 "nbformat_minor": 5
}
