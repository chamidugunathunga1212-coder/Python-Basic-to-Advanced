{
 "cells": [
  {
   "cell_type": "code",
   "execution_count": 2,
   "id": "ed7ef85a",
   "metadata": {},
   "outputs": [
    {
     "name": "stdout",
     "output_type": "stream",
     "text": [
      "13\n",
      "7\n",
      "30\n",
      "3.3333333333333335\n",
      "3\n",
      "1\n",
      "1000\n"
     ]
    }
   ],
   "source": [
    "# arithmetic operations\n",
    "a = 10\n",
    "b = 3\n",
    "print(a + b)  # addition\n",
    "print(a - b)  # subtraction\n",
    "print(a * b)  # multiplication\n",
    "print(a / b)  # division\n",
    "print(a // b)  # floor division\n",
    "print(a % b)  # modulus\n",
    "print(a ** b)  # exponentiation"
   ]
  },
  {
   "cell_type": "code",
   "execution_count": 4,
   "id": "75271ab8",
   "metadata": {},
   "outputs": [
    {
     "name": "stdout",
     "output_type": "stream",
     "text": [
      "False\n",
      "True\n",
      "True\n",
      "False\n",
      "True\n",
      "False\n"
     ]
    }
   ],
   "source": [
    "# comparison operations\n",
    "a = 10\n",
    "b = 3\n",
    "\n",
    "print(a == b)  # equal\n",
    "print(a != b)  # not equal\n",
    "print(a > b)   # greater than\n",
    "print(a < b)   # less than\n",
    "print(a >= b)  # greater than or equal to\n",
    "print(a <= b)  # less than or equal to"
   ]
  },
  {
   "cell_type": "code",
   "execution_count": 5,
   "id": "7f32913f",
   "metadata": {},
   "outputs": [
    {
     "name": "stdout",
     "output_type": "stream",
     "text": [
      "False\n",
      "True\n",
      "False\n"
     ]
    }
   ],
   "source": [
    "# logical operations\n",
    "x = True\n",
    "y = False\n",
    "print(x and y)  # logical AND\n",
    "print(x or y)   # logical OR\n",
    "print(not x)    # logical NOT\n"
   ]
  }
 ],
 "metadata": {
  "kernelspec": {
   "display_name": "Python 3",
   "language": "python",
   "name": "python3"
  },
  "language_info": {
   "codemirror_mode": {
    "name": "ipython",
    "version": 3
   },
   "file_extension": ".py",
   "mimetype": "text/x-python",
   "name": "python",
   "nbconvert_exporter": "python",
   "pygments_lexer": "ipython3",
   "version": "3.12.0"
  }
 },
 "nbformat": 4,
 "nbformat_minor": 5
}
